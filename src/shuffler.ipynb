{
 "cells": [
  {
   "cell_type": "markdown",
   "source": [
    "# A little bit about distribution"
   ],
   "metadata": {
    "collapsed": false
   }
  },
  {
   "cell_type": "code",
   "execution_count": 1,
   "outputs": [],
   "source": [
    "import matplotlib.pyplot as plt\n",
    "\n",
    "from shuffler import Shuffler, DEFAULT_ENCODING\n",
    "\n",
    "TICKETS_COUNT = 25\n",
    "shuffler = Shuffler(number_of_tickets=TICKETS_COUNT, distribution_parameter=10)"
   ],
   "metadata": {
    "collapsed": false
   }
  },
  {
   "cell_type": "markdown",
   "source": [
    "In the file `../data/students.txt` it contains 16536 lines with surnames and first names."
   ],
   "metadata": {
    "collapsed": false
   }
  },
  {
   "cell_type": "code",
   "execution_count": 2,
   "outputs": [],
   "source": [
    "with open('../data/students.txt', mode='r', encoding=DEFAULT_ENCODING) as students_list:\n",
    "    students = [item.split() for item in students_list]\n",
    "students_count = len(students)"
   ],
   "metadata": {
    "collapsed": false
   }
  },
  {
   "cell_type": "markdown",
   "source": [
    "Let's run the shuffler on the provided data."
   ],
   "metadata": {
    "collapsed": false
   }
  },
  {
   "cell_type": "code",
   "execution_count": 3,
   "outputs": [],
   "source": [
    "import pandas as pd\n",
    "from typing import Iterable\n",
    "\n",
    "\n",
    "def get_dataframe_with_tickets(shuffler: Shuffler, list_of_students: Iterable) -> pd.DataFrame:\n",
    "    return pd.DataFrame(\n",
    "        columns=['first_name', 'last_name', 'ticket'],\n",
    "        data=shuffler.get_tickets_of_students(list_of_students),\n",
    "    )\n",
    "\n",
    "\n",
    "distribution = get_dataframe_with_tickets(shuffler, students)"
   ],
   "metadata": {
    "collapsed": false
   }
  },
  {
   "cell_type": "markdown",
   "source": [
    "Consider a histogram with tickets. It is expected that on a sufficiently large data set, the distribution will be close to uniform: this means that _the bars of the histogram will be approximately equal_."
   ],
   "metadata": {
    "collapsed": false
   }
  },
  {
   "cell_type": "code",
   "execution_count": 4,
   "outputs": [
    {
     "data": {
      "text/plain": "<Figure size 640x480 with 1 Axes>",
      "image/png": "[encoded data removed]"
     },
     "metadata": {},
     "output_type": "display_data"
    }
   ],
   "source": [
    "distribution.ticket.plot.hist(range=(1, TICKETS_COUNT + 1), bins=TICKETS_COUNT);"
   ],
   "metadata": {
    "collapsed": false
   }
  },
  {
   "cell_type": "markdown",
   "source": [
    "Thus, the hypothesis is confirmed: the distribution of tickets is close to uniform."
   ],
   "metadata": {
    "collapsed": false
   }
  },
  {
   "cell_type": "markdown",
   "source": [
    "# As for determinism"
   ],
   "metadata": {
    "collapsed": false
   }
  },
  {
   "cell_type": "code",
   "execution_count": 5,
   "outputs": [
    {
     "data": {
      "text/plain": "  first_name     last_name  ticket\n0     Айзана  Трещетенкова      25\n1     Сарика   Поствайкина      12\n2   Иосипина     Шелуханов      14\n3      Зимра         Лоева      22\n4     Дидбан     Грандберг       5",
      "text/html": "<div>\n<style scoped>\n    .dataframe tbody tr th:only-of-type {\n        vertical-align: middle;\n    }\n\n    .dataframe tbody tr th {\n        vertical-align: top;\n    }\n\n    .dataframe thead th {\n        text-align: right;\n    }\n</style>\n<table border=\"1\" class=\"dataframe\">\n  <thead>\n    <tr style=\"text-align: right;\">\n      <th></th>\n      <th>first_name</th>\n      <th>last_name</th>\n      <th>ticket</th>\n    </tr>\n  </thead>\n  <tbody>\n    <tr>\n      <th>0</th>\n      <td>Айзана</td>\n      <td>Трещетенкова</td>\n      <td>25</td>\n    </tr>\n    <tr>\n      <th>1</th>\n      <td>Сарика</td>\n      <td>Поствайкина</td>\n      <td>12</td>\n    </tr>\n    <tr>\n      <th>2</th>\n      <td>Иосипина</td>\n      <td>Шелуханов</td>\n      <td>14</td>\n    </tr>\n    <tr>\n      <th>3</th>\n      <td>Зимра</td>\n      <td>Лоева</td>\n      <td>22</td>\n    </tr>\n    <tr>\n      <th>4</th>\n      <td>Дидбан</td>\n      <td>Грандберг</td>\n      <td>5</td>\n    </tr>\n  </tbody>\n</table>\n</div>"
     },
     "execution_count": 5,
     "metadata": {},
     "output_type": "execute_result"
    }
   ],
   "source": [
    "subset = [\n",
    "    ['Айзана', 'Трещетенкова'],\n",
    "    ['Сарика', 'Поствайкина'],\n",
    "    ['Иосипина', 'Шелуханов'],\n",
    "    ['Зимра', 'Лоева'],\n",
    "    ['Дидбан', 'Грандберг'],\n",
    "]\n",
    "\n",
    "re_distributed = get_dataframe_with_tickets(shuffler, subset)\n",
    "re_distributed"
   ],
   "metadata": {
    "collapsed": false
   }
  },
  {
   "cell_type": "code",
   "execution_count": 6,
   "outputs": [
    {
     "data": {
      "text/plain": "  first_name     last_name  ticket\n0     Айзана  Трещетенкова      25\n1     Сарика   Поствайкина      12\n2   Иосипина     Шелуханов      14\n3      Зимра         Лоева      22\n4     Дидбан     Грандберг       5",
      "text/html": "<div>\n<style scoped>\n    .dataframe tbody tr th:only-of-type {\n        vertical-align: middle;\n    }\n\n    .dataframe tbody tr th {\n        vertical-align: top;\n    }\n\n    .dataframe thead th {\n        text-align: right;\n    }\n</style>\n<table border=\"1\" class=\"dataframe\">\n  <thead>\n    <tr style=\"text-align: right;\">\n      <th></th>\n      <th>first_name</th>\n      <th>last_name</th>\n      <th>ticket</th>\n    </tr>\n  </thead>\n  <tbody>\n    <tr>\n      <th>0</th>\n      <td>Айзана</td>\n      <td>Трещетенкова</td>\n      <td>25</td>\n    </tr>\n    <tr>\n      <th>1</th>\n      <td>Сарика</td>\n      <td>Поствайкина</td>\n      <td>12</td>\n    </tr>\n    <tr>\n      <th>2</th>\n      <td>Иосипина</td>\n      <td>Шелуханов</td>\n      <td>14</td>\n    </tr>\n    <tr>\n      <th>3</th>\n      <td>Зимра</td>\n      <td>Лоева</td>\n      <td>22</td>\n    </tr>\n    <tr>\n      <th>4</th>\n      <td>Дидбан</td>\n      <td>Грандберг</td>\n      <td>5</td>\n    </tr>\n  </tbody>\n</table>\n</div>"
     },
     "execution_count": 6,
     "metadata": {},
     "output_type": "execute_result"
    }
   ],
   "source": [
    "from functools import reduce\n",
    "\n",
    "\n",
    "def get_mask(first_name: str, last_name: str):\n",
    "    return (distribution.first_name == first_name) & (distribution.last_name == last_name)\n",
    "\n",
    "\n",
    "mask = reduce(lambda acc, names: acc | get_mask(*names), subset, False)\n",
    "distribution[mask].reset_index(drop=True)"
   ],
   "metadata": {
    "collapsed": false
   }
  },
  {
   "cell_type": "markdown",
   "source": [
    "Thus, it can be seen that with the name and distribution parameter unchanged, the distribution doesn't change."
   ],
   "metadata": {
    "collapsed": false
   }
  },
  {
   "cell_type": "markdown",
   "source": [
    "# In conclusion about randomness"
   ],
   "metadata": {
    "collapsed": false
   }
  },
  {
   "cell_type": "markdown",
   "source": [
    "Change the distribution parameter."
   ],
   "metadata": {
    "collapsed": false
   }
  },
  {
   "cell_type": "code",
   "execution_count": 7,
   "outputs": [
    {
     "data": {
      "text/plain": "<Figure size 640x480 with 1 Axes>",
      "image/png": "[encoded data removed]"
     },
     "metadata": {},
     "output_type": "display_data"
    }
   ],
   "source": [
    "def get_tickets(parameter: int) -> pd.DataFrame:\n",
    "    return get_dataframe_with_tickets(\n",
    "        Shuffler(\n",
    "            number_of_tickets=TICKETS_COUNT,\n",
    "            distribution_parameter=parameter\n",
    "        ),\n",
    "        students\n",
    "    ).ticket\n",
    "\n",
    "\n",
    "def get_number_of_matches(parameter: int) -> int:\n",
    "    return len(distribution[get_tickets(parameter) == distribution.ticket])\n",
    "\n",
    "\n",
    "def get_percentage_of_matches(parameter: int) -> float:\n",
    "    return round(get_number_of_matches(parameter) / students_count * 100, 2)\n",
    "\n",
    "\n",
    "parameters = range(10)\n",
    "plt.plot(parameters, [get_percentage_of_matches(parameter) for parameter in parameters]);"
   ],
   "metadata": {
    "collapsed": false
   }
  },
  {
   "cell_type": "markdown",
   "source": [
    "Thus, it can be seen that with a small number of tickets, after changing the distribution parameter, the ticket does not change for less than 5% of students. In other words, when the parameter changes, the distribution \"changes a lot\". This proof is not formal, but in fact it is a good heuristic."
   ],
   "metadata": {
    "collapsed": false
   }
  }
 ],
 "metadata": {
  "kernelspec": {
   "display_name": "Python 3",
   "language": "python",
   "name": "python3"
  },
  "language_info": {
   "codemirror_mode": {
    "name": "ipython",
    "version": 2
   },
   "file_extension": ".py",
   "mimetype": "text/x-python",
   "name": "python",
   "nbconvert_exporter": "python",
   "pygments_lexer": "ipython2",
   "version": "2.7.6"
  }
 },
 "nbformat": 4,
 "nbformat_minor": 0
}
